{
 "cells": [
  {
   "cell_type": "code",
   "execution_count": 1,
   "metadata": {},
   "outputs": [],
   "source": [
    "import itertools\n",
    "import matplotlib.pyplot as plt\n",
    "import numpy as np\n",
    "import pandas as pd\n",
    "import scienceplots\n",
    "import shap\n",
    "\n",
    "import events_package.utils as utils\n",
    "from events_package.Experiment import Experiment\n",
    "from events_package.config import FIVE_LAYERS\n",
    "from events_package.input_getters import get_Y_1, get_X_3, get_X_4, get_X_5"
   ]
  },
  {
   "cell_type": "code",
   "execution_count": 2,
   "metadata": {},
   "outputs": [
    {
     "data": {
      "text/plain": [
       "'5.0'"
      ]
     },
     "execution_count": 2,
     "metadata": {},
     "output_type": "execute_result"
    }
   ],
   "source": [
    "Experiment.__version__"
   ]
  },
  {
   "cell_type": "markdown",
   "metadata": {},
   "source": [
    "# 1. Importing Single Particle Data"
   ]
  },
  {
   "cell_type": "markdown",
   "metadata": {},
   "source": [
    "## 1.1 Electrons"
   ]
  },
  {
   "cell_type": "code",
   "execution_count": 3,
   "metadata": {},
   "outputs": [
    {
     "data": {
      "text/plain": [
       "444840"
      ]
     },
     "execution_count": 3,
     "metadata": {},
     "output_type": "execute_result"
    }
   ],
   "source": [
    "# importing data\n",
    "dataset_df = pd.read_parquet(\n",
    "    r\"C:\\Users\\User1\\Desktop\\MSci_Project\\Data\\6_data\\Electron\\Parquet\\1m_electron_pq_3\"\n",
    ")\n",
    "\n",
    "electrons = Experiment(dataset_df, config=FIVE_LAYERS)\n",
    "del dataset_df\n",
    "electrons.length"
   ]
  },
  {
   "cell_type": "code",
   "execution_count": null,
   "metadata": {},
   "outputs": [],
   "source": [
    "electrons.standard_procedure()"
   ]
  },
  {
   "cell_type": "markdown",
   "metadata": {},
   "source": [
    "## 1.2 Photons"
   ]
  },
  {
   "cell_type": "code",
   "execution_count": null,
   "metadata": {},
   "outputs": [],
   "source": [
    "dataset_df = pd.read_parquet(\n",
    "    r\"C:\\Users\\User1\\Desktop\\MSci_Project\\Data\\6_data\\Photon\\Parquet\\1m_photon_pq\"\n",
    ")\n",
    "\n",
    "photons = Experiment(dataset_df, config=FIVE_LAYERS)\n",
    "del dataset_df\n",
    "photons.length"
   ]
  },
  {
   "cell_type": "code",
   "execution_count": null,
   "metadata": {},
   "outputs": [],
   "source": [
    "photons.standard_procedure()"
   ]
  },
  {
   "cell_type": "markdown",
   "metadata": {},
   "source": [
    "## 1.3 Neutral Pions"
   ]
  },
  {
   "cell_type": "code",
   "execution_count": null,
   "metadata": {},
   "outputs": [],
   "source": [
    "dataset_df = pd.read_parquet(\n",
    "    r\"C:\\Users\\User1\\Desktop\\MSci_Project\\Data\\6_data\\PiZero\\Parquet\\pq_pi0_2\"\n",
    ")\n",
    "\n",
    "pi0 = Experiment(dataset_df, config=FIVE_LAYERS)\n",
    "del dataset_df\n",
    "pi0.length"
   ]
  },
  {
   "cell_type": "code",
   "execution_count": null,
   "metadata": {},
   "outputs": [],
   "source": [
    "pi0.standard_procedure()"
   ]
  },
  {
   "cell_type": "markdown",
   "metadata": {},
   "source": [
    "## 1.4 Charged Pions"
   ]
  },
  {
   "cell_type": "code",
   "execution_count": null,
   "metadata": {},
   "outputs": [],
   "source": [
    "dataset_df = pd.read_parquet(\n",
    "    r\"C:\\Users\\User1\\Desktop\\MSci_Project\\Data\\6_data\\PiPlusMinus\\Parquet\\pq_piplusminus_2\"\n",
    ")\n",
    "\n",
    "pi_char = Experiment(dataset_df, config=FIVE_LAYERS)\n",
    "del dataset_df\n",
    "pi_char.length"
   ]
  },
  {
   "cell_type": "code",
   "execution_count": null,
   "metadata": {},
   "outputs": [],
   "source": [
    "pi_char.standard_procedure()"
   ]
  },
  {
   "cell_type": "markdown",
   "metadata": {},
   "source": [
    "# 2. Model With Input Features Version 3\n",
    "\n",
    "The new idea here is to introduce normalisation to the energy inputs, it proved to improve accuracy slightly."
   ]
  },
  {
   "cell_type": "code",
   "execution_count": null,
   "metadata": {},
   "outputs": [],
   "source": [
    "# hyperparameters used\n",
    "params = {\n",
    "    \"objective\": \"reg:squarederror\",\n",
    "    \"max_depth\": 6,\n",
    "    \"learning_rate\": 0.18,\n",
    "    \"colsample_bytree\": 0.8,\n",
    "    \"eval_metric\": \"rmse\",\n",
    "    \"n_estimators\": 600,\n",
    "}"
   ]
  },
  {
   "cell_type": "code",
   "execution_count": null,
   "metadata": {},
   "outputs": [],
   "source": [
    "print(get_X_3.__doc__)"
   ]
  },
  {
   "cell_type": "code",
   "execution_count": null,
   "metadata": {},
   "outputs": [],
   "source": [
    "# split electron data into training and testing, next train XGBoost model\n",
    "electrons.train_test_split(get_X=get_X_3, get_Y=get_Y_1, test_size=0.2)\n",
    "print(electrons.X_test.shape)\n",
    "\n",
    "electrons.train_xgboost_model(params)"
   ]
  },
  {
   "cell_type": "code",
   "execution_count": null,
   "metadata": {},
   "outputs": [],
   "source": [
    "# split photon data into training and testing, next train XGBoost model\n",
    "photons.train_test_split(get_X=get_X_3, get_Y=get_Y_1, test_size=0.2)\n",
    "print(photons.X_test.shape)\n",
    "\n",
    "photons.train_xgboost_model(params)"
   ]
  },
  {
   "cell_type": "code",
   "execution_count": null,
   "metadata": {},
   "outputs": [],
   "source": [
    "# split neutral pion data into training and testing, next train XGBoost model\n",
    "pi0.train_test_split(get_X=get_X_3, get_Y=get_Y_1, test_size=0.2)\n",
    "print(pi0.X_test.shape)\n",
    "\n",
    "pi0.train_xgboost_model(params)"
   ]
  },
  {
   "cell_type": "code",
   "execution_count": null,
   "metadata": {},
   "outputs": [],
   "source": [
    "# split charged pion data into training and testing, next train XGBoost model\n",
    "pi_char.train_test_split(get_X=get_X_3, get_Y=get_Y_1, test_size=0.2)\n",
    "print(pi_char.X_test.shape)\n",
    "\n",
    "pi_char.train_xgboost_model(params)"
   ]
  },
  {
   "cell_type": "markdown",
   "metadata": {},
   "source": [
    "## 2.1 SHAP for get_X_3 Model"
   ]
  },
  {
   "cell_type": "code",
   "execution_count": null,
   "metadata": {},
   "outputs": [],
   "source": [
    "model = electrons.model\n",
    "explainer = shap.TreeExplainer(model, check_additivity=False)\n",
    "\n",
    "shap_values = explainer.shap_values(electrons.X_train, check_additivity=False)"
   ]
  },
  {
   "cell_type": "code",
   "execution_count": null,
   "metadata": {},
   "outputs": [],
   "source": [
    "feature_names = [\n",
    "    \"psb eta\",\n",
    "    \"emb1 eta\",\n",
    "    \"emb2 eta\",\n",
    "    \"emb3 eta\",\n",
    "    \"hab1 eta\",\n",
    "    \"psb - emb1 eta\",\n",
    "    \"emb1 - emb2 eta\",\n",
    "    \"emb2 - emb3 eta\",\n",
    "    \"emb3 - hab1 eta\",\n",
    "    \"psb (0)\",\n",
    "    \"psb (1)\",\n",
    "    \"psb (2)\",\n",
    "    \"psb (3)\",\n",
    "    \"psb (4)\",\n",
    "    \"psb (5)\",\n",
    "    \"psb (6)\",\n",
    "    \"psb (7)\",\n",
    "    \"psb (8)\",\n",
    "    \"emb1 (0)\",\n",
    "    \"emb1 (1)\",\n",
    "    \"emb1 (2)\",\n",
    "    \"emb1 (3)\",\n",
    "    \"emb1 (4)\",\n",
    "    \"emb1 (5)\",\n",
    "    \"emb1 (6)\",\n",
    "    \"emb1 (7)\",\n",
    "    \"emb1 (8)\",\n",
    "    \"emb1 (9)\",\n",
    "    \"emb1 (10)\",\n",
    "]\n",
    "\n",
    "\n",
    "shap.summary_plot(shap_values, electrons.X_train, feature_names=feature_names)"
   ]
  },
  {
   "cell_type": "markdown",
   "metadata": {},
   "source": [
    "# 3. Model With Input Features Version 4"
   ]
  },
  {
   "cell_type": "code",
   "execution_count": null,
   "metadata": {},
   "outputs": [],
   "source": [
    "print(get_X_4.__doc__)"
   ]
  },
  {
   "cell_type": "code",
   "execution_count": null,
   "metadata": {},
   "outputs": [],
   "source": [
    "# split electron data into training and testing, next train XGBoost model\n",
    "electrons.train_test_split(get_X=get_X_4, get_Y=get_Y_1, test_size=0.2)\n",
    "print(electrons.X_test.shape)\n",
    "\n",
    "electrons.train_xgboost_model(params)"
   ]
  },
  {
   "cell_type": "code",
   "execution_count": null,
   "metadata": {},
   "outputs": [],
   "source": [
    "# split photon data into training and testing, next train XGBoost model\n",
    "photons.train_test_split(get_X=get_X_4, get_Y=get_Y_1, test_size=0.2)\n",
    "print(photons.X_test.shape)\n",
    "\n",
    "photons.train_xgboost_model(params)"
   ]
  },
  {
   "cell_type": "code",
   "execution_count": null,
   "metadata": {},
   "outputs": [],
   "source": [
    "# split neutral pion data into training and testing, next train XGBoost model\n",
    "pi0.train_test_split(get_X=get_X_4, get_Y=get_Y_1, test_size=0.2)\n",
    "print(pi0.X_test.shape)\n",
    "\n",
    "pi0.train_xgboost_model(params)"
   ]
  },
  {
   "cell_type": "code",
   "execution_count": null,
   "metadata": {},
   "outputs": [],
   "source": [
    "# split charged pion data into training and testing, next train XGBoost model\n",
    "pi_char.train_test_split(get_X=get_X_4, get_Y=get_Y_1, test_size=0.2)\n",
    "print(pi_char.X_test.shape)\n",
    "\n",
    "pi_char.train_xgboost_model(params)"
   ]
  },
  {
   "cell_type": "markdown",
   "metadata": {},
   "source": [
    "# 4. Model With Input Features Version 5"
   ]
  },
  {
   "cell_type": "code",
   "execution_count": null,
   "metadata": {},
   "outputs": [],
   "source": [
    "# split electron data into training and testing, next train XGBoost model\n",
    "electrons.train_test_split(get_X=get_X_5, get_Y=get_Y_1, test_size=0.2)\n",
    "print(electrons.X_test.shape)\n",
    "\n",
    "electrons.train_xgboost_model(params)"
   ]
  },
  {
   "cell_type": "code",
   "execution_count": null,
   "metadata": {},
   "outputs": [],
   "source": [
    "# split photon data into training and testing, next train XGBoost model\n",
    "photons.train_test_split(get_X=get_X_5, get_Y=get_Y_1, test_size=0.2)\n",
    "print(photons.X_test.shape)\n",
    "\n",
    "photons.train_xgboost_model(params)"
   ]
  },
  {
   "cell_type": "code",
   "execution_count": null,
   "metadata": {},
   "outputs": [],
   "source": [
    "# split neutral pion data into training and testing, next train XGBoost model\n",
    "pi0.train_test_split(get_X=get_X_5, get_Y=get_Y_1, test_size=0.2)\n",
    "print(pi0.X_test.shape)\n",
    "\n",
    "pi0.train_xgboost_model(params)"
   ]
  },
  {
   "cell_type": "code",
   "execution_count": null,
   "metadata": {},
   "outputs": [],
   "source": [
    "# split charged pion data into training and testing, next train XGBoost model\n",
    "pi_char.train_test_split(get_X=get_X_5, get_Y=get_Y_1, test_size=0.2)\n",
    "print(pi_char.X_test.shape)\n",
    "\n",
    "pi_char.train_xgboost_model(params)"
   ]
  }
 ],
 "metadata": {
  "kernelspec": {
   "display_name": "Environment4",
   "language": "python",
   "name": "python3"
  },
  "language_info": {
   "codemirror_mode": {
    "name": "ipython",
    "version": 3
   },
   "file_extension": ".py",
   "mimetype": "text/x-python",
   "name": "python",
   "nbconvert_exporter": "python",
   "pygments_lexer": "ipython3",
   "version": "3.11.7"
  }
 },
 "nbformat": 4,
 "nbformat_minor": 2
}
