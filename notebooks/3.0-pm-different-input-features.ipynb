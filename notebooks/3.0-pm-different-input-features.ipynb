{
 "cells": [
  {
   "cell_type": "code",
   "execution_count": 1,
   "metadata": {},
   "outputs": [],
   "source": [
    "import itertools\n",
    "import matplotlib.pyplot as plt\n",
    "import numpy as np\n",
    "import pandas as pd\n",
    "import scienceplots\n",
    "import shap\n",
    "\n",
    "import events_package.utils as utils\n",
    "from events_package.Experiment import Experiment\n",
    "from events_package.config import FIVE_LAYERS\n",
    "from events_package.input_getters import get_Y_1, get_X_3, get_X_4, get_X_5"
   ]
  },
  {
   "cell_type": "code",
   "execution_count": 2,
   "metadata": {},
   "outputs": [
    {
     "data": {
      "text/plain": [
       "'5.0'"
      ]
     },
     "execution_count": 2,
     "metadata": {},
     "output_type": "execute_result"
    }
   ],
   "source": [
    "Experiment.__version__"
   ]
  },
  {
   "cell_type": "markdown",
   "metadata": {},
   "source": [
    "# 1. Importing Single Particle Data"
   ]
  },
  {
   "cell_type": "markdown",
   "metadata": {},
   "source": [
    "## 1.1 Electrons"
   ]
  },
  {
   "cell_type": "code",
   "execution_count": 3,
   "metadata": {},
   "outputs": [
    {
     "data": {
      "text/plain": [
       "444840"
      ]
     },
     "execution_count": 3,
     "metadata": {},
     "output_type": "execute_result"
    }
   ],
   "source": [
    "# importing data\n",
    "dataset_df = pd.read_parquet(\n",
    "    r\"C:\\Users\\User1\\Desktop\\MSci_Project\\Data\\6_data\\Electron\\Parquet\\1m_electron_pq_3\"\n",
    ")\n",
    "\n",
    "electrons = Experiment(dataset_df, config=FIVE_LAYERS)\n",
    "del dataset_df\n",
    "electrons.length"
   ]
  },
  {
   "cell_type": "code",
   "execution_count": 4,
   "metadata": {},
   "outputs": [
    {
     "name": "stdout",
     "output_type": "stream",
     "text": [
      "INFO: Removed duplicates\n",
      "INFO: Denoisified the dataset\n",
      "INFO: Shuffled dataset\n",
      "INFO: Number of events after removing duplicates: 434998\n",
      "INFO: Removed events with 0 energy in layers after denoisifying\n",
      "INFO: Number of events after removing 0 energy (in calorimeters) events: 434998\n"
     ]
    }
   ],
   "source": [
    "electrons.standard_procedure()"
   ]
  },
  {
   "cell_type": "markdown",
   "metadata": {},
   "source": [
    "## 1.2 Photons"
   ]
  },
  {
   "cell_type": "code",
   "execution_count": 5,
   "metadata": {},
   "outputs": [
    {
     "data": {
      "text/plain": [
       "444142"
      ]
     },
     "execution_count": 5,
     "metadata": {},
     "output_type": "execute_result"
    }
   ],
   "source": [
    "dataset_df = pd.read_parquet(\n",
    "    r\"C:\\Users\\User1\\Desktop\\MSci_Project\\Data\\6_data\\Photon\\Parquet\\1m_photon_pq\"\n",
    ")\n",
    "\n",
    "photons = Experiment(dataset_df, config=FIVE_LAYERS)\n",
    "del dataset_df\n",
    "photons.length"
   ]
  },
  {
   "cell_type": "code",
   "execution_count": 6,
   "metadata": {},
   "outputs": [
    {
     "name": "stdout",
     "output_type": "stream",
     "text": [
      "INFO: Removed duplicates\n",
      "INFO: Denoisified the dataset\n",
      "INFO: Shuffled dataset\n",
      "INFO: Number of events after removing duplicates: 434870\n",
      "INFO: Removed events with 0 energy in layers after denoisifying\n",
      "INFO: Number of events after removing 0 energy (in calorimeters) events: 434870\n"
     ]
    }
   ],
   "source": [
    "photons.standard_procedure()"
   ]
  },
  {
   "cell_type": "markdown",
   "metadata": {},
   "source": [
    "## 1.3 Neutral Pions"
   ]
  },
  {
   "cell_type": "code",
   "execution_count": 7,
   "metadata": {},
   "outputs": [
    {
     "data": {
      "text/plain": [
       "412856"
      ]
     },
     "execution_count": 7,
     "metadata": {},
     "output_type": "execute_result"
    }
   ],
   "source": [
    "dataset_df = pd.read_parquet(\n",
    "    r\"C:\\Users\\User1\\Desktop\\MSci_Project\\Data\\6_data\\PiZero\\Parquet\\pq_pi0_2\"\n",
    ")\n",
    "\n",
    "pi0 = Experiment(dataset_df, config=FIVE_LAYERS)\n",
    "del dataset_df\n",
    "pi0.length"
   ]
  },
  {
   "cell_type": "code",
   "execution_count": 8,
   "metadata": {},
   "outputs": [
    {
     "name": "stdout",
     "output_type": "stream",
     "text": [
      "INFO: Removed duplicates\n",
      "INFO: Denoisified the dataset\n",
      "INFO: Shuffled dataset\n",
      "INFO: Number of events after removing duplicates: 391483\n",
      "INFO: Removed events with 0 energy in layers after denoisifying\n",
      "INFO: Number of events after removing 0 energy (in calorimeters) events: 391483\n"
     ]
    }
   ],
   "source": [
    "pi0.standard_procedure()"
   ]
  },
  {
   "cell_type": "markdown",
   "metadata": {},
   "source": [
    "## 1.4 Charged Pions"
   ]
  },
  {
   "cell_type": "code",
   "execution_count": 9,
   "metadata": {},
   "outputs": [
    {
     "data": {
      "text/plain": [
       "357554"
      ]
     },
     "execution_count": 9,
     "metadata": {},
     "output_type": "execute_result"
    }
   ],
   "source": [
    "dataset_df = pd.read_parquet(\n",
    "    r\"C:\\Users\\User1\\Desktop\\MSci_Project\\Data\\6_data\\PiPlusMinus\\Parquet\\pq_piplusminus_2\"\n",
    ")\n",
    "\n",
    "pi_char = Experiment(dataset_df, config=FIVE_LAYERS)\n",
    "del dataset_df\n",
    "pi_char.length"
   ]
  },
  {
   "cell_type": "code",
   "execution_count": 10,
   "metadata": {},
   "outputs": [
    {
     "name": "stdout",
     "output_type": "stream",
     "text": [
      "INFO: Removed duplicates\n",
      "INFO: Denoisified the dataset\n",
      "INFO: Shuffled dataset\n",
      "INFO: Number of events after removing duplicates: 330809\n",
      "INFO: Removed events with 0 energy in layers after denoisifying\n",
      "INFO: Number of events after removing 0 energy (in calorimeters) events: 330809\n"
     ]
    }
   ],
   "source": [
    "pi_char.standard_procedure()"
   ]
  },
  {
   "cell_type": "markdown",
   "metadata": {},
   "source": [
    "# 2. Model With Input Features Version 3\n",
    "\n",
    "The new idea here is to introduce normalisation to the energy inputs, it proved to improve accuracy slightly."
   ]
  },
  {
   "cell_type": "code",
   "execution_count": 11,
   "metadata": {},
   "outputs": [],
   "source": [
    "# hyperparameters used\n",
    "params = {\n",
    "    \"objective\": \"reg:squarederror\",\n",
    "    \"max_depth\": 6,\n",
    "    \"learning_rate\": 0.18,\n",
    "    \"colsample_bytree\": 0.8,\n",
    "    \"eval_metric\": \"rmse\",\n",
    "    \"n_estimators\": 600,\n",
    "}"
   ]
  },
  {
   "cell_type": "code",
   "execution_count": 12,
   "metadata": {},
   "outputs": [
    {
     "name": "stdout",
     "output_type": "stream",
     "text": [
      "\n",
      "    Creates inputs for model training.\n",
      "    Inputs include center etas, differences between etas from different layers, energy information.\n",
      "    Similar to get_X_2, but the energies are normalised to total energy in all layers.\n",
      "    \n"
     ]
    }
   ],
   "source": [
    "print(get_X_3.__doc__)"
   ]
  },
  {
   "cell_type": "code",
   "execution_count": 13,
   "metadata": {},
   "outputs": [
    {
     "name": "stdout",
     "output_type": "stream",
     "text": [
      "(87000, 62)\n",
      "INFO: Trained XGBoost model; mean squared error: 1282.713831953448\n"
     ]
    },
    {
     "data": {
      "text/plain": [
       "1282.713831953448"
      ]
     },
     "execution_count": 13,
     "metadata": {},
     "output_type": "execute_result"
    }
   ],
   "source": [
    "# split electron data into training and testing, next train XGBoost model\n",
    "electrons.train_test_split(get_X=get_X_3, get_Y=get_Y_1, test_size=0.2)\n",
    "print(electrons.X_test.shape)\n",
    "\n",
    "electrons.train_xgboost_model(params)"
   ]
  },
  {
   "cell_type": "code",
   "execution_count": 14,
   "metadata": {},
   "outputs": [
    {
     "name": "stdout",
     "output_type": "stream",
     "text": [
      "(86975, 62)\n",
      "INFO: Trained XGBoost model; mean squared error: 1349.7636974935633\n"
     ]
    },
    {
     "data": {
      "text/plain": [
       "1349.7636974935633"
      ]
     },
     "execution_count": 14,
     "metadata": {},
     "output_type": "execute_result"
    }
   ],
   "source": [
    "# split photon data into training and testing, next train XGBoost model\n",
    "photons.train_test_split(get_X=get_X_3, get_Y=get_Y_1, test_size=0.2)\n",
    "print(photons.X_test.shape)\n",
    "\n",
    "photons.train_xgboost_model(params)"
   ]
  },
  {
   "cell_type": "code",
   "execution_count": 15,
   "metadata": {},
   "outputs": [
    {
     "name": "stdout",
     "output_type": "stream",
     "text": [
      "(78297, 62)\n",
      "INFO: Trained XGBoost model; mean squared error: 2901.0318710072092\n"
     ]
    },
    {
     "data": {
      "text/plain": [
       "2901.0318710072092"
      ]
     },
     "execution_count": 15,
     "metadata": {},
     "output_type": "execute_result"
    }
   ],
   "source": [
    "# split neutral pion data into training and testing, next train XGBoost model\n",
    "pi0.train_test_split(get_X=get_X_3, get_Y=get_Y_1, test_size=0.2)\n",
    "print(pi0.X_test.shape)\n",
    "\n",
    "pi0.train_xgboost_model(params)"
   ]
  },
  {
   "cell_type": "code",
   "execution_count": 16,
   "metadata": {},
   "outputs": [
    {
     "name": "stdout",
     "output_type": "stream",
     "text": [
      "(66162, 62)\n",
      "INFO: Trained XGBoost model; mean squared error: 9047.251967213908\n"
     ]
    },
    {
     "data": {
      "text/plain": [
       "9047.251967213908"
      ]
     },
     "execution_count": 16,
     "metadata": {},
     "output_type": "execute_result"
    }
   ],
   "source": [
    "# split charged pion data into training and testing, next train XGBoost model\n",
    "pi_char.train_test_split(get_X=get_X_3, get_Y=get_Y_1, test_size=0.2)\n",
    "print(pi_char.X_test.shape)\n",
    "\n",
    "pi_char.train_xgboost_model(params)"
   ]
  },
  {
   "cell_type": "markdown",
   "metadata": {},
   "source": [
    "## 2.1 SHAP for get_X_3 Model"
   ]
  },
  {
   "cell_type": "code",
   "execution_count": 17,
   "metadata": {},
   "outputs": [
    {
     "name": "stderr",
     "output_type": "stream",
     "text": [
      "[16:55:38] WARNING: D:\\bld\\xgboost-split_1705650032250\\work\\src\\c_api\\c_api.cc:1240: Saving into deprecated binary model format, please consider using `json` or `ubj`. Model format will default to JSON in XGBoost 2.2 if not specified.\n"
     ]
    }
   ],
   "source": [
    "model = electrons.model\n",
    "explainer = shap.TreeExplainer(model, check_additivity=False)\n",
    "\n",
    "shap_values = explainer.shap_values(electrons.X_train, check_additivity=False)"
   ]
  },
  {
   "cell_type": "code",
   "execution_count": 18,
   "metadata": {},
   "outputs": [
    {
     "data": {
      "image/png": "[encoded data removed]",
      "text/plain": [
       "<Figure size 800x950 with 2 Axes>"
      ]
     },
     "metadata": {},
     "output_type": "display_data"
    }
   ],
   "source": [
    "feature_names = [\n",
    "    r\"psb $\\eta$\",\n",
    "    r\"emb1 $\\eta$\",\n",
    "    r\"emb2 $\\eta$\",\n",
    "    r\"emb3 $\\eta$\",\n",
    "    r\"hab1 $\\eta$\",\n",
    "    r\"psb $\\eta$ - emb1 $\\eta$\",\n",
    "    r\"emb1 $\\eta$ - emb2 $\\eta$\",\n",
    "    r\"emb2 $\\eta$ - emb3 $\\eta$\",\n",
    "    r\"emb3 $\\eta$ - hab1 $\\eta$\",\n",
    "    \"psb (0)\",\n",
    "    \"psb (1)\",\n",
    "    \"psb (2)\",\n",
    "    \"psb (3)\",\n",
    "    \"psb (4)\",\n",
    "    \"psb (5)\",\n",
    "    \"psb (6)\",\n",
    "    \"psb (7)\",\n",
    "    \"psb (8)\",\n",
    "    \"emb1 (0)\",\n",
    "    \"emb1 (1)\",\n",
    "    \"emb1 (2)\",\n",
    "    \"emb1 (3)\",\n",
    "    \"emb1 (4)\",\n",
    "    \"emb1 (5)\",\n",
    "    \"emb1 (6)\",\n",
    "    \"emb1 (7)\",\n",
    "    \"emb1 (8)\",\n",
    "    \"emb1 (9)\",\n",
    "    \"emb1 (10)\",\n",
    "    \"emb1 (11)\",\n",
    "    \"emb1 (12)\",\n",
    "    \"emb1 (13)\",\n",
    "    \"emb1 (14)\",\n",
    "    \"emb1 (15)\",\n",
    "    \"emb1 (16)\",\n",
    "    \"emb2 (0)\",\n",
    "    \"emb2 (1)\",\n",
    "    \"emb2 (2)\",\n",
    "    \"emb2 (3)\",\n",
    "    \"emb2 (4)\",\n",
    "    \"emb2 (5)\",\n",
    "    \"emb2 (6)\",\n",
    "    \"emb2 (7)\",\n",
    "    \"emb2 (8)\",\n",
    "    \"emb3 (0)\",\n",
    "    \"emb3 (1)\",\n",
    "    \"emb3 (2)\",\n",
    "    \"emb3 (3)\",\n",
    "    \"emb3 (4)\",\n",
    "    \"emb3 (5)\",\n",
    "    \"emb3 (6)\",\n",
    "    \"emb3 (7)\",\n",
    "    \"emb3 (8)\",\n",
    "    \"hab1 (0)\",\n",
    "    \"hab1 (1)\",\n",
    "    \"hab1 (2)\",\n",
    "    \"hab1 (3)\",\n",
    "    \"hab1 (4)\",\n",
    "    \"hab1 (5)\",\n",
    "    \"hab1 (6)\",\n",
    "    \"hab1 (7)\",\n",
    "    \"hab1 (8)\",\n",
    "]\n",
    "\n",
    "\n",
    "shap.summary_plot(shap_values, electrons.X_train, feature_names=feature_names)"
   ]
  },
  {
   "cell_type": "markdown",
   "metadata": {},
   "source": [
    "# 3. Model With Input Features Version 4"
   ]
  },
  {
   "cell_type": "code",
   "execution_count": 19,
   "metadata": {},
   "outputs": [
    {
     "name": "stdout",
     "output_type": "stream",
     "text": [
      "\n",
      "    Creates inputs for model training.\n",
      "    Inputs include center etas, differences between etas from different layers, energy information.\n",
      "    Compared to get_X_3, this one uses differences between normalised cells,\n",
      "    instead of just cells.\n",
      "    The energy inputs are created in the following way:\n",
      "    - first a sum over phi is taken just as in get_X_2\n",
      "    - normalisation is done with respect to total deposited energy just like get_X_3\n",
      "    - next, utils.fold_list_2d is used to take differences between cells symmetric around\n",
      "    the middle cell, plus the middle cell itself.\n",
      "\n",
      "    So if energy inputs after summing over phi were for example (0, 1, 2, 4, 6),\n",
      "    then the input will be: (2, 4-1, 6-0) = (2, 3, 6).\n",
      "    \n"
     ]
    }
   ],
   "source": [
    "print(get_X_4.__doc__)"
   ]
  },
  {
   "cell_type": "code",
   "execution_count": 20,
   "metadata": {},
   "outputs": [
    {
     "name": "stdout",
     "output_type": "stream",
     "text": [
      "(87000, 38)\n",
      "INFO: Trained XGBoost model; mean squared error: 1294.7512993898677\n"
     ]
    },
    {
     "data": {
      "text/plain": [
       "1294.7512993898677"
      ]
     },
     "execution_count": 20,
     "metadata": {},
     "output_type": "execute_result"
    }
   ],
   "source": [
    "# split electron data into training and testing, next train XGBoost model\n",
    "electrons.train_test_split(get_X=get_X_4, get_Y=get_Y_1, test_size=0.2)\n",
    "print(electrons.X_test.shape)\n",
    "\n",
    "electrons.train_xgboost_model(params)"
   ]
  },
  {
   "cell_type": "code",
   "execution_count": 21,
   "metadata": {},
   "outputs": [
    {
     "name": "stdout",
     "output_type": "stream",
     "text": [
      "(86975, 38)\n",
      "INFO: Trained XGBoost model; mean squared error: 1381.4849124817106\n"
     ]
    },
    {
     "data": {
      "text/plain": [
       "1381.4849124817106"
      ]
     },
     "execution_count": 21,
     "metadata": {},
     "output_type": "execute_result"
    }
   ],
   "source": [
    "# split photon data into training and testing, next train XGBoost model\n",
    "photons.train_test_split(get_X=get_X_4, get_Y=get_Y_1, test_size=0.2)\n",
    "print(photons.X_test.shape)\n",
    "\n",
    "photons.train_xgboost_model(params)"
   ]
  },
  {
   "cell_type": "code",
   "execution_count": 22,
   "metadata": {},
   "outputs": [
    {
     "name": "stdout",
     "output_type": "stream",
     "text": [
      "(78297, 38)\n",
      "INFO: Trained XGBoost model; mean squared error: 3206.6119732672823\n"
     ]
    },
    {
     "data": {
      "text/plain": [
       "3206.6119732672823"
      ]
     },
     "execution_count": 22,
     "metadata": {},
     "output_type": "execute_result"
    }
   ],
   "source": [
    "# split neutral pion data into training and testing, next train XGBoost model\n",
    "pi0.train_test_split(get_X=get_X_4, get_Y=get_Y_1, test_size=0.2)\n",
    "print(pi0.X_test.shape)\n",
    "\n",
    "pi0.train_xgboost_model(params)"
   ]
  },
  {
   "cell_type": "code",
   "execution_count": 23,
   "metadata": {},
   "outputs": [
    {
     "name": "stdout",
     "output_type": "stream",
     "text": [
      "(66162, 38)\n",
      "INFO: Trained XGBoost model; mean squared error: 9165.364890035664\n"
     ]
    },
    {
     "data": {
      "text/plain": [
       "9165.364890035664"
      ]
     },
     "execution_count": 23,
     "metadata": {},
     "output_type": "execute_result"
    }
   ],
   "source": [
    "# split charged pion data into training and testing, next train XGBoost model\n",
    "pi_char.train_test_split(get_X=get_X_4, get_Y=get_Y_1, test_size=0.2)\n",
    "print(pi_char.X_test.shape)\n",
    "\n",
    "pi_char.train_xgboost_model(params)"
   ]
  },
  {
   "cell_type": "markdown",
   "metadata": {},
   "source": [
    "# 4. Model With Input Features Version 5"
   ]
  },
  {
   "cell_type": "code",
   "execution_count": 24,
   "metadata": {},
   "outputs": [
    {
     "name": "stdout",
     "output_type": "stream",
     "text": [
      "\n",
      "    Creates inputs for model training.\n",
      "    Inputs include center etas, differences between etas from different layers, energy information.\n",
      "    The idea is similar to get_X_4, to use differences between normalised energies symmetric about\n",
      "    the middle cell.\n",
      "\n",
      "    But this time, only certain differences are used, as it has been noticed that some inputs\n",
      "    from get_X_4 do not contribute much. Therefore number of features in reduced further.\n",
      "    \n"
     ]
    }
   ],
   "source": [
    "print(get_X_5.__doc__)"
   ]
  },
  {
   "cell_type": "code",
   "execution_count": 25,
   "metadata": {},
   "outputs": [
    {
     "name": "stdout",
     "output_type": "stream",
     "text": [
      "(87000, 22)\n",
      "INFO: Trained XGBoost model; mean squared error: 1269.4781413701999\n"
     ]
    },
    {
     "data": {
      "text/plain": [
       "1269.4781413701999"
      ]
     },
     "execution_count": 25,
     "metadata": {},
     "output_type": "execute_result"
    }
   ],
   "source": [
    "# split electron data into training and testing, next train XGBoost model\n",
    "electrons.train_test_split(get_X=get_X_5, get_Y=get_Y_1, test_size=0.2)\n",
    "print(electrons.X_test.shape)\n",
    "\n",
    "electrons.train_xgboost_model(params)"
   ]
  },
  {
   "cell_type": "code",
   "execution_count": 26,
   "metadata": {},
   "outputs": [
    {
     "name": "stdout",
     "output_type": "stream",
     "text": [
      "(86975, 22)\n",
      "INFO: Trained XGBoost model; mean squared error: 1343.2628282558508\n"
     ]
    },
    {
     "data": {
      "text/plain": [
       "1343.2628282558508"
      ]
     },
     "execution_count": 26,
     "metadata": {},
     "output_type": "execute_result"
    }
   ],
   "source": [
    "# split photon data into training and testing, next train XGBoost model\n",
    "photons.train_test_split(get_X=get_X_5, get_Y=get_Y_1, test_size=0.2)\n",
    "print(photons.X_test.shape)\n",
    "\n",
    "photons.train_xgboost_model(params)"
   ]
  },
  {
   "cell_type": "code",
   "execution_count": 27,
   "metadata": {},
   "outputs": [
    {
     "name": "stdout",
     "output_type": "stream",
     "text": [
      "(78297, 22)\n",
      "INFO: Trained XGBoost model; mean squared error: 3482.0686179973786\n"
     ]
    },
    {
     "data": {
      "text/plain": [
       "3482.0686179973786"
      ]
     },
     "execution_count": 27,
     "metadata": {},
     "output_type": "execute_result"
    }
   ],
   "source": [
    "# split neutral pion data into training and testing, next train XGBoost model\n",
    "pi0.train_test_split(get_X=get_X_5, get_Y=get_Y_1, test_size=0.2)\n",
    "print(pi0.X_test.shape)\n",
    "\n",
    "pi0.train_xgboost_model(params)"
   ]
  },
  {
   "cell_type": "code",
   "execution_count": 28,
   "metadata": {},
   "outputs": [
    {
     "name": "stdout",
     "output_type": "stream",
     "text": [
      "(66162, 22)\n",
      "INFO: Trained XGBoost model; mean squared error: 9496.842739673433\n"
     ]
    },
    {
     "data": {
      "text/plain": [
       "9496.842739673433"
      ]
     },
     "execution_count": 28,
     "metadata": {},
     "output_type": "execute_result"
    }
   ],
   "source": [
    "# split charged pion data into training and testing, next train XGBoost model\n",
    "pi_char.train_test_split(get_X=get_X_5, get_Y=get_Y_1, test_size=0.2)\n",
    "print(pi_char.X_test.shape)\n",
    "\n",
    "pi_char.train_xgboost_model(params)"
   ]
  }
 ],
 "metadata": {
  "kernelspec": {
   "display_name": "Environment4",
   "language": "python",
   "name": "python3"
  },
  "language_info": {
   "codemirror_mode": {
    "name": "ipython",
    "version": 3
   },
   "file_extension": ".py",
   "mimetype": "text/x-python",
   "name": "python",
   "nbconvert_exporter": "python",
   "pygments_lexer": "ipython3",
   "version": "3.11.7"
  }
 },
 "nbformat": 4,
 "nbformat_minor": 2
}
